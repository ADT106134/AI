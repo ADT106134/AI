{
 "cells": [
  {
   "cell_type": "code",
   "execution_count": 27,
   "metadata": {},
   "outputs": [
    {
     "name": "stdout",
     "output_type": "stream",
     "text": [
      "請輸入身高(CM): 175\n",
      "請輸入體重(KG): 70\n",
      "你的BMI為: 22.857143\n",
      "真健康!\n"
     ]
    }
   ],
   "source": [
    "BMI = 0\n",
    "height = int(input(\"請輸入身高(CM): \"))\n",
    "weight = int(input(\"請輸入體重(KG): \"))\n",
    "BMI = weight / ((height / 100) * (height / 100))\n",
    "print(\"你的BMI為: %f\" % (BMI))\n",
    "if BMI < 18.5:\n",
    "    print(\"你過瘦了!\")\n",
    "elif BMI >= 24:\n",
    "    print(\"你過胖了!\")\n",
    "else:\n",
    "    print(\"真健康!\")"
   ]
  },
  {
   "cell_type": "code",
   "execution_count": null,
   "metadata": {},
   "outputs": [],
   "source": []
  }
 ],
 "metadata": {
  "kernelspec": {
   "display_name": "Python 3",
   "language": "python",
   "name": "python3"
  },
  "language_info": {
   "codemirror_mode": {
    "name": "ipython",
    "version": 3
   },
   "file_extension": ".py",
   "mimetype": "text/x-python",
   "name": "python",
   "nbconvert_exporter": "python",
   "pygments_lexer": "ipython3",
   "version": "3.7.0"
  }
 },
 "nbformat": 4,
 "nbformat_minor": 2
}
